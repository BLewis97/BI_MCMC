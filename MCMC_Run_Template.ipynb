{
 "cells": [
  {
   "cell_type": "code",
   "execution_count": 6,
   "metadata": {},
   "outputs": [],
   "source": [
    "#Import required packages\n",
    "import jax                                                #numpy on CPU/GPU/TPU\n",
    "import sys                                                #allows for command line arguments to be run with the script\n",
    "import arviz as az                                        #for saving Bayesian Data\n",
    "from funcs_ub_globalfit_BL import *                          #physical recombination models (self written)\n",
    "import jax.numpy as jnp                                   #jnp regularly called (ease of use)\n",
    "from jax.random import PRNGKey                            #pseudo-random number generator (ease of use)\n",
    "\n",
    "import numpyro                                            #Bayesian inference package\n",
    "from numpyro.infer import MCMC, NUTS, Predictive          #MCMC with NUTS to make it Hamiltonian MC\n",
    "from numpyro.distributions import TruncatedNormal, Normal #To define prior distributions\n",
    "import pickle                                             #For loading data from .py files"
   ]
  },
  {
   "cell_type": "code",
   "execution_count": 7,
   "metadata": {},
   "outputs": [
    {
     "name": "stdout",
     "output_type": "stream",
     "text": [
      "(65,) (65,)\n"
     ]
    }
   ],
   "source": [
    "#Load Data\n",
    "with open('MAPI_230424_Sorted/iCCD_MAPI__150uW_FILM_iCCD.py', \"rb\") as file:\n",
    "        data = pickle.load(file)\n",
    "\n",
    "time = data[0]-data[0][0] \n",
    "signal = data[1]/data[1][0]\n",
    "s_signal = standardise(signal)[0]\n",
    "print(time.shape,s_signal.shape)"
   ]
  },
  {
   "cell_type": "code",
   "execution_count": 16,
   "metadata": {},
   "outputs": [
    {
     "name": "stdout",
     "output_type": "stream",
     "text": [
      "1\n"
     ]
    },
    {
     "data": {
      "text/plain": [
       "(Array([ 3.69266607,  3.3340325 ,  2.97503575,  2.62212288,  2.27560069,\n",
       "         1.92731774,  1.59310518,  1.28355212,  0.98205252,  0.69760128,\n",
       "         0.45006741,  0.24579386,  0.0678273 , -0.07882191, -0.18846719,\n",
       "        -0.22061881, -0.2654415 , -0.32267499, -0.36578   , -0.39544284,\n",
       "        -0.41454448, -0.41971455, -0.42674589, -0.43580708, -0.44243335,\n",
       "        -0.44688669, -0.44965183, -0.45035571, -0.45414715, -0.45464385,\n",
       "        -0.45468709, -0.45472939, -0.45471321, -0.45469231, -0.45469806,\n",
       "        -0.45470042, -0.45470741, -0.45471102, -0.45471192, -0.45471122,\n",
       "        -0.45471079, -0.45469979, -0.45470085, -0.45470437, -0.45470598,\n",
       "        -0.45470609, -0.45470514, -0.45470355, -0.4547031 , -0.45470173,\n",
       "        -0.4547001 , -0.45469978, -0.4546991 , -0.4546991 , -0.45469919,\n",
       "        -0.45469975, -0.45470006, -0.45470017, -0.45470013, -0.45469997,\n",
       "        -0.45469974, -0.45469949, -0.45469927, -0.45469911, -0.45469906],      dtype=float64),\n",
       " Array([-1.7845763], dtype=float64),\n",
       " Array([0.48327584], dtype=float64))"
      ]
     },
     "execution_count": 16,
     "metadata": {},
     "output_type": "execute_result"
    }
   ],
   "source": [
    "num_chains = 10                       #number of chains to run (number of cores to use) - might need to run this on linux\n",
    "numpyro.set_host_device_count(12)     #number of cores on computer\n",
    "\n",
    "#Set all floats to 64 bit\n",
    "jax.config.update(\"jax_enable_x64\", True) #Needed for precision in jax - never touch\n",
    "#warm up the JIT\n",
    "TRPL_HERTZ(time,jnp.array([0, 1e-15, 1e-18, 1e-3, 0.0, 1e14, 0.0]), 10.0)              #These are from the funcs_ub_globalfit file - these numbers dont mean anything, \n",
    "standardise(TRPL_HERTZ(time,jnp.array([0.0, 1e-15, 1e-18, 1e-3, 0.0, 1e14, 0.0]), 10.0)) #it is literally to get the JIT warmed up with numbers"
   ]
  },
  {
   "cell_type": "code",
   "execution_count": 10,
   "metadata": {},
   "outputs": [],
   "source": [
    "#Bayesian model\n",
    "def model(dev, ydata = None):\n",
    "    \"\"\"\n",
    "    \n",
    "    Bayesian model for the BTDP model.\n",
    "\n",
    "    Parameters\n",
    "    ----------\n",
    "    dev: float\n",
    "        stdev chosen to be less than the bounds of the truncated guassians of priors (fac and theta, defined below)\n",
    "    \n",
    "    y0: float\n",
    "        Initial counts in the TRPL signal.\n",
    "\n",
    "    ydata: array\n",
    "        standardised log10 of the experimental TRPL signal.\n",
    "\n",
    "    \"\"\"\n",
    "\n",
    "    std_dev = dev\n",
    "\n",
    "    N0 = 1.75\n",
    "\n",
    "    fac = numpyro.sample(                                 # Creates a truncated normal that we use to create a distribution for the N0s later\n",
    "        \"fac\",\n",
    "        TruncatedNormal(\n",
    "            low   = jnp.array([0.950, 1.950, 2.950]),\n",
    "            high  = jnp.array([1.050, 2.050, 3.150]),\n",
    "            loc   = jnp.array([1.000, 2.000, 3.000]),\n",
    "            scale = jnp.array([0.001, 0.001, 0.001]),\n",
    "        ),\n",
    "    ) \n",
    "\n",
    "    theta = numpyro.sample(                            #Truncated normal distributions of priors in special units. See NOTE for detailed conversion,\n",
    "        \"theta\",                                       #but 1 units = 1e15 cm-3. Consider each parameters conversion with this in mind (Auger = cm6s-1)\n",
    "        TruncatedNormal(\n",
    "            low   = jnp.array([-7.00, -2.50, -3.95, -3.00, -4.00, N0 - fac[2] * jnp.log10(4.0)]),\n",
    "            high  = jnp.array([-4.90,  0.00, -2.00, -1.00, -1.00, N0 - fac[0] * jnp.log10(4.0)]),\n",
    "            loc   = jnp.array([-5.90, -1.20, -2.30, -2.00, -2.70,  1.00]),\n",
    "            scale = jnp.array([std_dev, std_dev, std_dev, std_dev, std_dev, std_dev]),\n",
    "        ),\n",
    "    ) #in log form, not physically understandable - these units = 1e15 cm-3\n",
    "\n",
    "    std_dev1 = 0.1\n",
    "    noise = numpyro.sample(\n",
    "        \"noise\",\n",
    "        TruncatedNormal(\n",
    "            low   = jnp.array([0.01, 0.01, 0.01, 0.01]),\n",
    "            high  = jnp.array([0.50, 0.50, 0.50, 0.50]),\n",
    "            loc   = jnp.array([0.10, 0.10, 0.10, 0.10]),\n",
    "            scale = jnp.array([std_dev1, std_dev1, std_dev1, std_dev1]),\n",
    "        ),\n",
    "    )\n",
    "\n",
    "    ka    = theta[0]\n",
    "    kt    = theta[1]\n",
    "    kb    = theta[2]\n",
    "    kdt   = theta[3]\n",
    "    kdp   = theta[4]\n",
    "    NT    = theta[5]\n",
    "\n",
    "    #Calculate the TRPL signal and standardise\n",
    "    #signal0 = TRPL_HERTZ_HIGH(jnp.array([10**ka, 10**kt, 10**kb, 10**kdt, 10**kdp, 10**NT, 0.0]),  10**(N0 - fac[5] * jnp.log10(4.0)))\n",
    "    #signal1 = TRPL_HERTZ_HIGH(jnp.array([10**ka, 10**kt, 10**kb, 10**kdt, 10**kdp, 10**NT, 0.0]),  10**(N0 - fac[4] * jnp.log10(4.0)))\n",
    "    #signal2 = TRPL_HERTZ_HIGH(jnp.array([10**ka, 10**kt, 10**kb, 10**kdt, 10**kdp, 10**NT, 0.0]),  10**(N0 - fac[3] * jnp.log10(4.0)))\n",
    "    #signal3 = TRPL_HERTZ_HIGH(jnp.array([10**ka, 10**kt, 10**kb, 10**kdt, 10**kdp, 10**NT, 0.0]), 10**(N0 - fac[2] * jnp.log10(4.0)))\n",
    "    signal4 = TRPL_HERTZ_HIGH(jnp.array([10**ka, 10**kt, 10**kb, 10**kdt, 10**kdp, 10**NT, 0.0]), 10**(N0 - fac[1] * jnp.log10(10.0)))\n",
    "    signal5 = TRPL_HERTZ_HIGH(jnp.array([10**ka, 10**kt, 10**kb, 10**kdt, 10**kdp, 10**NT, 0.0]), 10**(N0 - fac[0] * jnp.log10(10.0)))\n",
    "    #signal4 = TRPL_HERTZ_HIGH(jnp.array([10**ka, 0.0, 10**kb, 0.0, 0.0, 0.0, 0.0]), 10**(N0 - fac[1] * jnp.log10(4.0)))\n",
    "    #signal5 = TRPL_HERTZ_HIGH(jnp.array([10**ka, 0.0, 10**kb, 0.0, 0.0, 0.0, 0.0]), 10**(N0 - fac[0] * jnp.log10(4.0)))\n",
    "    signal6 = TRPL_HERTZ_HIGH(jnp.array([10**ka, 0.0, 10**kb, 0.0, 0.0, 0.0, 0.0]), 10**(N0))\n",
    "    #signal6 = TRPL_HERTZ_HIGH(jnp.array([10**ka, 10**kt, 10**kb, 10**kdt, 10**kdp, 10**NT, 0.0]), 10**(N0))\n",
    "    \n",
    "    signal = jnp.stack([signal4, signal5, signal6])\n",
    "    signal_s = (signal - means)/stds\n",
    "\n",
    "    #Define the likelihood\n",
    "    numpyro.sample(\"ydata\", Normal(signal_s, noise[:, None]), obs=ydata)"
   ]
  },
  {
   "cell_type": "code",
   "execution_count": 12,
   "metadata": {},
   "outputs": [],
   "source": [
    "#Setting up the MCMC\n",
    "num_warmup, num_samples = 5000, 10000 #number of steps you want to do (2x samples than warmup)\n",
    "\n",
    "rndint      = int(4)         #Seeds for picking of starting points in priors\n",
    "rndint1     = int(3)         #Seeds picking from generated priors\n",
    "rndint2     = int(6)         #Picking from posteriors\n",
    "accept_prob = float(0.85)\n",
    "std_dev     = float(0.1)\n",
    "\n",
    "key1 = PRNGKey(rndint)            #Generating the random numbers from numbers above\n",
    "key2 = PRNGKey(rndint1)\n",
    "key3 = PRNGKey(rndint2)"
   ]
  },
  {
   "cell_type": "code",
   "execution_count": 13,
   "metadata": {},
   "outputs": [
    {
     "name": "stderr",
     "output_type": "stream",
     "text": [
      "C:\\Users\\bail2.BLUE\\AppData\\Local\\Temp\\ipykernel_14252\\3209107981.py:2: UserWarning: There are not enough devices to run parallel chains: expected 10 but got 1. Chains will be drawn sequentially. If you are running MCMC in CPU, consider using `numpyro.set_host_device_count(10)` at the beginning of your program. You can double-check how many devices are available in your system using `jax.local_device_count()`.\n",
      "  mcmc = MCMC(\n"
     ]
    }
   ],
   "source": [
    "#Define the MCMC - see Barney's notes for an explanation of each argument\n",
    "mcmc = MCMC(\n",
    "        NUTS(model, adapt_step_size=True, max_tree_depth=6, find_heuristic_step_size=False, dense_mass=True,target_accept_prob=accept_prob),\n",
    "        num_warmup=num_warmup,\n",
    "        num_samples=num_samples,\n",
    "        num_chains=num_chains,\n",
    "        chain_method=\"parallel\",\n",
    "        progress_bar=True,\n",
    "    )"
   ]
  }
 ],
 "metadata": {
  "kernelspec": {
   "display_name": "base",
   "language": "python",
   "name": "python3"
  },
  "language_info": {
   "codemirror_mode": {
    "name": "ipython",
    "version": 3
   },
   "file_extension": ".py",
   "mimetype": "text/x-python",
   "name": "python",
   "nbconvert_exporter": "python",
   "pygments_lexer": "ipython3",
   "version": "3.11.4"
  }
 },
 "nbformat": 4,
 "nbformat_minor": 2
}
